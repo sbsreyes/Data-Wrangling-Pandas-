{
 "cells": [
  {
   "cell_type": "code",
   "execution_count": 1,
   "metadata": {},
   "outputs": [],
   "source": [
    "import pandas as pd\n",
    "import numpy as np\n",
    "import matplotlib.pyplot as plt"
   ]
  },
  {
   "cell_type": "code",
   "execution_count": 2,
   "metadata": {},
   "outputs": [],
   "source": [
    "gender = ['Male', 'Female']\n",
    "income = ['Poor', 'Middle Class', 'Rich']"
   ]
  },
  {
   "cell_type": "code",
   "execution_count": 4,
   "metadata": {},
   "outputs": [],
   "source": [
    "n = 500\n",
    "gender_data = []\n",
    "income_data = []"
   ]
  },
  {
   "cell_type": "code",
   "execution_count": 5,
   "metadata": {},
   "outputs": [],
   "source": [
    "for i in range(0,n):\n",
    "    gender_data.append(np.random.choice(gender))\n",
    "    income_data.append(np.random.choice(income))\n",
    "    "
   ]
  },
  {
   "cell_type": "code",
   "execution_count": 10,
   "metadata": {},
   "outputs": [],
   "source": [
    "Height = 160 + 15 * np.random.randn(n)\n",
    "Weight = 60 + 10 * np.random.randn(n)\n",
    "Age = 25 + 10 * np.random.randn(n)\n",
    "Income = 1.8 + 5.0 * np.random.randn(n)"
   ]
  },
  {
   "cell_type": "code",
   "execution_count": 27,
   "metadata": {},
   "outputs": [],
   "source": [
    "data = pd.DataFrame({\n",
    "    'Gender': gender_data,\n",
    "    'Economic status': income_data,\n",
    "    'Height': Height,\n",
    "    'Weight': Weight,\n",
    "    'Age': Age,\n",
    "    'Income': Income\n",
    "})"
   ]
  },
  {
   "cell_type": "code",
   "execution_count": 28,
   "metadata": {},
   "outputs": [
    {
     "data": {
      "text/plain": [
       "(500, 6)"
      ]
     },
     "execution_count": 28,
     "metadata": {},
     "output_type": "execute_result"
    }
   ],
   "source": [
    "data.shape"
   ]
  },
  {
   "cell_type": "code",
   "execution_count": 29,
   "metadata": {},
   "outputs": [
    {
     "data": {
      "text/html": [
       "<div>\n",
       "<style scoped>\n",
       "    .dataframe tbody tr th:only-of-type {\n",
       "        vertical-align: middle;\n",
       "    }\n",
       "\n",
       "    .dataframe tbody tr th {\n",
       "        vertical-align: top;\n",
       "    }\n",
       "\n",
       "    .dataframe thead th {\n",
       "        text-align: right;\n",
       "    }\n",
       "</style>\n",
       "<table border=\"1\" class=\"dataframe\">\n",
       "  <thead>\n",
       "    <tr style=\"text-align: right;\">\n",
       "      <th></th>\n",
       "      <th>Gender</th>\n",
       "      <th>Economic status</th>\n",
       "      <th>Height</th>\n",
       "      <th>Weight</th>\n",
       "      <th>Age</th>\n",
       "      <th>Income</th>\n",
       "    </tr>\n",
       "  </thead>\n",
       "  <tbody>\n",
       "    <tr>\n",
       "      <th>0</th>\n",
       "      <td>Male</td>\n",
       "      <td>Middle Class</td>\n",
       "      <td>180.480378</td>\n",
       "      <td>60.024421</td>\n",
       "      <td>20.555177</td>\n",
       "      <td>6.031872</td>\n",
       "    </tr>\n",
       "    <tr>\n",
       "      <th>1</th>\n",
       "      <td>Male</td>\n",
       "      <td>Middle Class</td>\n",
       "      <td>154.952214</td>\n",
       "      <td>52.299638</td>\n",
       "      <td>20.478671</td>\n",
       "      <td>3.227276</td>\n",
       "    </tr>\n",
       "    <tr>\n",
       "      <th>2</th>\n",
       "      <td>Male</td>\n",
       "      <td>Rich</td>\n",
       "      <td>172.386120</td>\n",
       "      <td>59.313532</td>\n",
       "      <td>28.789046</td>\n",
       "      <td>-4.861818</td>\n",
       "    </tr>\n",
       "    <tr>\n",
       "      <th>3</th>\n",
       "      <td>Female</td>\n",
       "      <td>Rich</td>\n",
       "      <td>180.399704</td>\n",
       "      <td>62.319323</td>\n",
       "      <td>15.812870</td>\n",
       "      <td>1.257620</td>\n",
       "    </tr>\n",
       "    <tr>\n",
       "      <th>4</th>\n",
       "      <td>Female</td>\n",
       "      <td>Poor</td>\n",
       "      <td>158.279528</td>\n",
       "      <td>61.693562</td>\n",
       "      <td>33.465420</td>\n",
       "      <td>3.568157</td>\n",
       "    </tr>\n",
       "  </tbody>\n",
       "</table>\n",
       "</div>"
      ],
      "text/plain": [
       "   Gender Economic status      Height     Weight        Age    Income\n",
       "0    Male    Middle Class  180.480378  60.024421  20.555177  6.031872\n",
       "1    Male    Middle Class  154.952214  52.299638  20.478671  3.227276\n",
       "2    Male            Rich  172.386120  59.313532  28.789046 -4.861818\n",
       "3  Female            Rich  180.399704  62.319323  15.812870  1.257620\n",
       "4  Female            Poor  158.279528  61.693562  33.465420  3.568157"
      ]
     },
     "execution_count": 29,
     "metadata": {},
     "output_type": "execute_result"
    }
   ],
   "source": [
    "data.head()"
   ]
  },
  {
   "cell_type": "code",
   "execution_count": 30,
   "metadata": {},
   "outputs": [],
   "source": [
    "%matplotlib inline"
   ]
  },
  {
   "cell_type": "code",
   "execution_count": 31,
   "metadata": {},
   "outputs": [
    {
     "data": {
      "text/plain": [
       "(array([  7.,   9.,  43.,  66., 101., 102.,  95.,  54.,  17.,   6.]),\n",
       " array([-13.05294734, -10.17030079,  -7.28765423,  -4.40500768,\n",
       "         -1.52236113,   1.36028542,   4.24293198,   7.12557853,\n",
       "         10.00822508,  12.89087163,  15.77351819]),\n",
       " <a list of 10 Patch objects>)"
      ]
     },
     "execution_count": 31,
     "metadata": {},
     "output_type": "execute_result"
    },
    {
     "data": {
      "image/png": "[encoded data removed]",
      "text/plain": [
       "<Figure size 432x288 with 1 Axes>"
      ]
     },
     "metadata": {
      "needs_background": "light"
     },
     "output_type": "display_data"
    }
   ],
   "source": [
    "plt.hist(data['Income'])"
   ]
  },
  {
   "cell_type": "code",
   "execution_count": 32,
   "metadata": {},
   "outputs": [
    {
     "data": {
      "text/plain": [
       "(array([  7.,   9.,  43.,  66., 101., 102.,  95.,  54.,  17.,   6.]),\n",
       " array([-13.05294734, -10.17030079,  -7.28765423,  -4.40500768,\n",
       "         -1.52236113,   1.36028542,   4.24293198,   7.12557853,\n",
       "         10.00822508,  12.89087163,  15.77351819]),\n",
       " <a list of 10 Patch objects>)"
      ]
     },
     "execution_count": 32,
     "metadata": {},
     "output_type": "execute_result"
    },
    {
     "data": {
      "image/png": "[encoded data removed]",
      "text/plain": [
       "<Figure size 432x288 with 1 Axes>"
      ]
     },
     "metadata": {
      "needs_background": "light"
     },
     "output_type": "display_data"
    }
   ],
   "source": [
    "plt.hist(data['Income'])"
   ]
  },
  {
   "cell_type": "code",
   "execution_count": 33,
   "metadata": {},
   "outputs": [
    {
     "data": {
      "text/html": [
       "<div>\n",
       "<style scoped>\n",
       "    .dataframe tbody tr th:only-of-type {\n",
       "        vertical-align: middle;\n",
       "    }\n",
       "\n",
       "    .dataframe tbody tr th {\n",
       "        vertical-align: top;\n",
       "    }\n",
       "\n",
       "    .dataframe thead th {\n",
       "        text-align: right;\n",
       "    }\n",
       "</style>\n",
       "<table border=\"1\" class=\"dataframe\">\n",
       "  <thead>\n",
       "    <tr style=\"text-align: right;\">\n",
       "      <th></th>\n",
       "      <th>Gender</th>\n",
       "      <th>Economic status</th>\n",
       "      <th>Height</th>\n",
       "      <th>Weight</th>\n",
       "      <th>Age</th>\n",
       "      <th>Income</th>\n",
       "    </tr>\n",
       "  </thead>\n",
       "  <tbody>\n",
       "    <tr>\n",
       "      <th>0</th>\n",
       "      <td>Male</td>\n",
       "      <td>Middle Class</td>\n",
       "      <td>180.480378</td>\n",
       "      <td>60.024421</td>\n",
       "      <td>20.555177</td>\n",
       "      <td>6.031872</td>\n",
       "    </tr>\n",
       "    <tr>\n",
       "      <th>1</th>\n",
       "      <td>Male</td>\n",
       "      <td>Middle Class</td>\n",
       "      <td>154.952214</td>\n",
       "      <td>52.299638</td>\n",
       "      <td>20.478671</td>\n",
       "      <td>3.227276</td>\n",
       "    </tr>\n",
       "    <tr>\n",
       "      <th>2</th>\n",
       "      <td>Male</td>\n",
       "      <td>Rich</td>\n",
       "      <td>172.386120</td>\n",
       "      <td>59.313532</td>\n",
       "      <td>28.789046</td>\n",
       "      <td>4.861818</td>\n",
       "    </tr>\n",
       "    <tr>\n",
       "      <th>3</th>\n",
       "      <td>Female</td>\n",
       "      <td>Rich</td>\n",
       "      <td>180.399704</td>\n",
       "      <td>62.319323</td>\n",
       "      <td>15.812870</td>\n",
       "      <td>1.257620</td>\n",
       "    </tr>\n",
       "    <tr>\n",
       "      <th>4</th>\n",
       "      <td>Female</td>\n",
       "      <td>Poor</td>\n",
       "      <td>158.279528</td>\n",
       "      <td>61.693562</td>\n",
       "      <td>33.465420</td>\n",
       "      <td>3.568157</td>\n",
       "    </tr>\n",
       "    <tr>\n",
       "      <th>...</th>\n",
       "      <td>...</td>\n",
       "      <td>...</td>\n",
       "      <td>...</td>\n",
       "      <td>...</td>\n",
       "      <td>...</td>\n",
       "      <td>...</td>\n",
       "    </tr>\n",
       "    <tr>\n",
       "      <th>495</th>\n",
       "      <td>Male</td>\n",
       "      <td>Middle Class</td>\n",
       "      <td>182.632711</td>\n",
       "      <td>75.924981</td>\n",
       "      <td>32.571642</td>\n",
       "      <td>6.491571</td>\n",
       "    </tr>\n",
       "    <tr>\n",
       "      <th>496</th>\n",
       "      <td>Male</td>\n",
       "      <td>Rich</td>\n",
       "      <td>159.285098</td>\n",
       "      <td>81.090873</td>\n",
       "      <td>35.004438</td>\n",
       "      <td>7.875987</td>\n",
       "    </tr>\n",
       "    <tr>\n",
       "      <th>497</th>\n",
       "      <td>Male</td>\n",
       "      <td>Poor</td>\n",
       "      <td>174.454047</td>\n",
       "      <td>58.850118</td>\n",
       "      <td>31.692233</td>\n",
       "      <td>0.224531</td>\n",
       "    </tr>\n",
       "    <tr>\n",
       "      <th>498</th>\n",
       "      <td>Male</td>\n",
       "      <td>Poor</td>\n",
       "      <td>155.964741</td>\n",
       "      <td>53.063027</td>\n",
       "      <td>24.686102</td>\n",
       "      <td>2.835142</td>\n",
       "    </tr>\n",
       "    <tr>\n",
       "      <th>499</th>\n",
       "      <td>Male</td>\n",
       "      <td>Middle Class</td>\n",
       "      <td>144.043361</td>\n",
       "      <td>71.230568</td>\n",
       "      <td>45.871135</td>\n",
       "      <td>6.977461</td>\n",
       "    </tr>\n",
       "  </tbody>\n",
       "</table>\n",
       "<p>500 rows × 6 columns</p>\n",
       "</div>"
      ],
      "text/plain": [
       "     Gender Economic status      Height     Weight        Age    Income\n",
       "0      Male    Middle Class  180.480378  60.024421  20.555177  6.031872\n",
       "1      Male    Middle Class  154.952214  52.299638  20.478671  3.227276\n",
       "2      Male            Rich  172.386120  59.313532  28.789046  4.861818\n",
       "3    Female            Rich  180.399704  62.319323  15.812870  1.257620\n",
       "4    Female            Poor  158.279528  61.693562  33.465420  3.568157\n",
       "..      ...             ...         ...        ...        ...       ...\n",
       "495    Male    Middle Class  182.632711  75.924981  32.571642  6.491571\n",
       "496    Male            Rich  159.285098  81.090873  35.004438  7.875987\n",
       "497    Male            Poor  174.454047  58.850118  31.692233  0.224531\n",
       "498    Male            Poor  155.964741  53.063027  24.686102  2.835142\n",
       "499    Male    Middle Class  144.043361  71.230568  45.871135  6.977461\n",
       "\n",
       "[500 rows x 6 columns]"
      ]
     },
     "execution_count": 33,
     "metadata": {},
     "output_type": "execute_result"
    }
   ],
   "source": [
    "data['Income'] = data['Income'].abs()\n",
    "data['Age'] = data['Age'].abs()\n",
    "data"
   ]
  },
  {
   "cell_type": "code",
   "execution_count": 36,
   "metadata": {},
   "outputs": [
    {
     "data": {
      "text/html": [
       "<div>\n",
       "<style scoped>\n",
       "    .dataframe tbody tr th:only-of-type {\n",
       "        vertical-align: middle;\n",
       "    }\n",
       "\n",
       "    .dataframe tbody tr th {\n",
       "        vertical-align: top;\n",
       "    }\n",
       "\n",
       "    .dataframe thead th {\n",
       "        text-align: right;\n",
       "    }\n",
       "</style>\n",
       "<table border=\"1\" class=\"dataframe\">\n",
       "  <thead>\n",
       "    <tr style=\"text-align: right;\">\n",
       "      <th></th>\n",
       "      <th>Height</th>\n",
       "      <th>Weight</th>\n",
       "      <th>Age</th>\n",
       "      <th>Income</th>\n",
       "    </tr>\n",
       "  </thead>\n",
       "  <tbody>\n",
       "    <tr>\n",
       "      <th>count</th>\n",
       "      <td>500.000000</td>\n",
       "      <td>500.000000</td>\n",
       "      <td>500.000000</td>\n",
       "      <td>500.000000</td>\n",
       "    </tr>\n",
       "    <tr>\n",
       "      <th>mean</th>\n",
       "      <td>159.011729</td>\n",
       "      <td>60.428075</td>\n",
       "      <td>24.986391</td>\n",
       "      <td>4.404720</td>\n",
       "    </tr>\n",
       "    <tr>\n",
       "      <th>std</th>\n",
       "      <td>15.386155</td>\n",
       "      <td>9.984515</td>\n",
       "      <td>9.884806</td>\n",
       "      <td>3.200061</td>\n",
       "    </tr>\n",
       "    <tr>\n",
       "      <th>min</th>\n",
       "      <td>109.408205</td>\n",
       "      <td>25.037061</td>\n",
       "      <td>0.469334</td>\n",
       "      <td>0.017182</td>\n",
       "    </tr>\n",
       "    <tr>\n",
       "      <th>25%</th>\n",
       "      <td>149.438126</td>\n",
       "      <td>54.007518</td>\n",
       "      <td>18.488626</td>\n",
       "      <td>1.759551</td>\n",
       "    </tr>\n",
       "    <tr>\n",
       "      <th>50%</th>\n",
       "      <td>159.469938</td>\n",
       "      <td>60.498137</td>\n",
       "      <td>24.715125</td>\n",
       "      <td>3.985457</td>\n",
       "    </tr>\n",
       "    <tr>\n",
       "      <th>75%</th>\n",
       "      <td>168.635139</td>\n",
       "      <td>66.760053</td>\n",
       "      <td>31.915110</td>\n",
       "      <td>6.456660</td>\n",
       "    </tr>\n",
       "    <tr>\n",
       "      <th>max</th>\n",
       "      <td>204.346372</td>\n",
       "      <td>88.144150</td>\n",
       "      <td>57.004202</td>\n",
       "      <td>15.773518</td>\n",
       "    </tr>\n",
       "  </tbody>\n",
       "</table>\n",
       "</div>"
      ],
      "text/plain": [
       "           Height      Weight         Age      Income\n",
       "count  500.000000  500.000000  500.000000  500.000000\n",
       "mean   159.011729   60.428075   24.986391    4.404720\n",
       "std     15.386155    9.984515    9.884806    3.200061\n",
       "min    109.408205   25.037061    0.469334    0.017182\n",
       "25%    149.438126   54.007518   18.488626    1.759551\n",
       "50%    159.469938   60.498137   24.715125    3.985457\n",
       "75%    168.635139   66.760053   31.915110    6.456660\n",
       "max    204.346372   88.144150   57.004202   15.773518"
      ]
     },
     "execution_count": 36,
     "metadata": {},
     "output_type": "execute_result"
    }
   ],
   "source": [
    "data.describe()"
   ]
  },
  {
   "cell_type": "code",
   "execution_count": null,
   "metadata": {},
   "outputs": [],
   "source": []
  }
 ],
 "metadata": {
  "kernelspec": {
   "display_name": "Python 3",
   "language": "python",
   "name": "python3"
  },
  "language_info": {
   "codemirror_mode": {
    "name": "ipython",
    "version": 3
   },
   "file_extension": ".py",
   "mimetype": "text/x-python",
   "name": "python",
   "nbconvert_exporter": "python",
   "pygments_lexer": "ipython3",
   "version": "3.7.6"
  }
 },
 "nbformat": 4,
 "nbformat_minor": 4
}
